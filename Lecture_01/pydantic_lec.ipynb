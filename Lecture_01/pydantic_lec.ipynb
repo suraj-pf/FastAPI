{
 "cells": [
  {
   "cell_type": "code",
   "execution_count": null,
   "id": "8c22a199",
   "metadata": {},
   "outputs": [],
   "source": [
    "import pydantic\n",
    "from pydantic import BaseModel"
   ]
  },
  {
   "cell_type": "code",
   "execution_count": null,
   "id": "8c491961",
   "metadata": {},
   "outputs": [],
   "source": [
    "class Patient(BaseModel):\n",
    "    \n",
    "    name : str\n",
    "    age : int"
   ]
  },
  {
   "cell_type": "code",
   "execution_count": 9,
   "id": "44e8fe0f",
   "metadata": {},
   "outputs": [],
   "source": [
    "def insert_patient_data(name :str,age:int):\n",
    "\n",
    "\n",
    "    if type(name) == str and type(age) == int :\n",
    "        print(name)\n",
    "        print(age)\n",
    "        print(\"insert_patient_data\")\n",
    "    else:\n",
    "        raise TypeError(\"Incorrect datatype\")"
   ]
  },
  {
   "cell_type": "code",
   "execution_count": 11,
   "id": "ae989c90",
   "metadata": {},
   "outputs": [],
   "source": [
    "def update_patient_data(name :str,age:int):\n",
    "\n",
    "\n",
    "    if type(name) == str and type(age) == int :\n",
    "        print(name)\n",
    "        print(age)\n",
    "        print(\"update_patient_data\")\n",
    "    else:\n",
    "        raise TypeError(\"Incorrect datatype\")"
   ]
  },
  {
   "cell_type": "code",
   "execution_count": 10,
   "id": "f7c5df2b",
   "metadata": {},
   "outputs": [
    {
     "ename": "TypeError",
     "evalue": "Incorrect datatype",
     "output_type": "error",
     "traceback": [
      "\u001b[31m---------------------------------------------------------------------------\u001b[39m",
      "\u001b[31mTypeError\u001b[39m                                 Traceback (most recent call last)",
      "\u001b[36mCell\u001b[39m\u001b[36m \u001b[39m\u001b[32mIn[10]\u001b[39m\u001b[32m, line 1\u001b[39m\n\u001b[32m----> \u001b[39m\u001b[32m1\u001b[39m \u001b[43minsert_patient_data\u001b[49m\u001b[43m(\u001b[49m\u001b[33;43m\"\u001b[39;49m\u001b[33;43msuraj\u001b[39;49m\u001b[33;43m\"\u001b[39;49m\u001b[43m,\u001b[49m\u001b[33;43m\"\u001b[39;49m\u001b[33;43m30\u001b[39;49m\u001b[33;43m\"\u001b[39;49m\u001b[43m)\u001b[49m\n",
      "\u001b[36mCell\u001b[39m\u001b[36m \u001b[39m\u001b[32mIn[9]\u001b[39m\u001b[32m, line 9\u001b[39m, in \u001b[36minsert_patient_data\u001b[39m\u001b[34m(name, age)\u001b[39m\n\u001b[32m      7\u001b[39m     \u001b[38;5;28mprint\u001b[39m(\u001b[33m\"\u001b[39m\u001b[33minsert_patient_data\u001b[39m\u001b[33m\"\u001b[39m)\n\u001b[32m      8\u001b[39m \u001b[38;5;28;01melse\u001b[39;00m:\n\u001b[32m----> \u001b[39m\u001b[32m9\u001b[39m     \u001b[38;5;28;01mraise\u001b[39;00m \u001b[38;5;167;01mTypeError\u001b[39;00m(\u001b[33m\"\u001b[39m\u001b[33mIncorrect datatype\u001b[39m\u001b[33m\"\u001b[39m)\n",
      "\u001b[31mTypeError\u001b[39m: Incorrect datatype"
     ]
    }
   ],
   "source": [
    "insert_patient_data(\"suraj\",\"30\")"
   ]
  },
  {
   "cell_type": "code",
   "execution_count": null,
   "id": "36b2e04c",
   "metadata": {},
   "outputs": [],
   "source": []
  }
 ],
 "metadata": {
  "kernelspec": {
   "display_name": "venv",
   "language": "python",
   "name": "python3"
  },
  "language_info": {
   "codemirror_mode": {
    "name": "ipython",
    "version": 3
   },
   "file_extension": ".py",
   "mimetype": "text/x-python",
   "name": "python",
   "nbconvert_exporter": "python",
   "pygments_lexer": "ipython3",
   "version": "3.12.10"
  }
 },
 "nbformat": 4,
 "nbformat_minor": 5
}
